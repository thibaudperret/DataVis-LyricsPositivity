{
 "cells": [
  {
   "cell_type": "markdown",
   "metadata": {},
   "source": [
    "### usual imports"
   ]
  },
  {
   "cell_type": "code",
   "execution_count": 1,
   "metadata": {},
   "outputs": [
    {
     "ename": "ModuleNotFoundError",
     "evalue": "No module named 'vaderSentiment'",
     "output_type": "error",
     "traceback": [
      "\u001b[1;31m---------------------------------------------------------------------------\u001b[0m",
      "\u001b[1;31mModuleNotFoundError\u001b[0m                       Traceback (most recent call last)",
      "\u001b[1;32m<ipython-input-1-ab3b42d66aaf>\u001b[0m in \u001b[0;36m<module>\u001b[1;34m()\u001b[0m\n\u001b[0;32m      1\u001b[0m \u001b[1;32mimport\u001b[0m \u001b[0mlyricsgenius\u001b[0m \u001b[1;32mas\u001b[0m \u001b[0mlg\u001b[0m\u001b[1;33m\u001b[0m\u001b[0m\n\u001b[1;32m----> 2\u001b[1;33m \u001b[1;32mimport\u001b[0m \u001b[0mvaderSentiment\u001b[0m\u001b[1;33m\u001b[0m\u001b[0m\n\u001b[0m\u001b[0;32m      3\u001b[0m \u001b[1;32mimport\u001b[0m \u001b[0mre\u001b[0m\u001b[1;33m\u001b[0m\u001b[0m\n\u001b[0;32m      4\u001b[0m \u001b[1;32mimport\u001b[0m \u001b[0mtextblob\u001b[0m\u001b[1;33m\u001b[0m\u001b[0m\n\u001b[0;32m      5\u001b[0m \u001b[1;32mfrom\u001b[0m \u001b[0mtextblob\u001b[0m \u001b[1;32mimport\u001b[0m \u001b[0mTextBlob\u001b[0m\u001b[1;33m\u001b[0m\u001b[0m\n",
      "\u001b[1;31mModuleNotFoundError\u001b[0m: No module named 'vaderSentiment'"
     ]
    }
   ],
   "source": [
    "import lyricsgenius as lg\n",
    "import vaderSentiment\n",
    "import re\n",
    "import textblob\n",
    "from textblob import TextBlob\n",
    "from vaderSentiment.vaderSentiment import SentimentIntensityAnalyzer as vd\n",
    "import nltk\n",
    "import nltk.sentiment.vader as nltkvd\n",
    "nltk.download('vader_lexicon')\n",
    "import matplotlib.pyplot as plt\n",
    "%matplotlib inline\n",
    "import numpy as np\n",
    "import json"
   ]
  },
  {
   "cell_type": "code",
   "execution_count": 2,
   "metadata": {},
   "outputs": [],
   "source": [
    "def partial_aggregate(sentences, group_size) :\n",
    "    \n",
    "    if len(sentences) <= group_size :\n",
    "        return [\" \".join(sentences)]\n",
    "    \n",
    "    else :\n",
    "        nb_parts = int(len(sentences) / group_size) + 1\n",
    "        parts = []\n",
    "        \n",
    "        for i in range(nb_parts) :\n",
    "            to_append = \" \".join(sentences[i*group_size:(i+1)*group_size])\n",
    "            parts.append(to_append)\n",
    "            \n",
    "        return parts        "
   ]
  },
  {
   "cell_type": "markdown",
   "metadata": {},
   "source": [
    "### load the song"
   ]
  },
  {
   "cell_type": "code",
   "execution_count": 3,
   "metadata": {},
   "outputs": [
    {
     "name": "stdout",
     "output_type": "stream",
     "text": [
      "Searching for \"happy\"...\n",
      "Done.\n"
     ]
    }
   ],
   "source": [
    "api = lg.Genius('EkwclsJky_nfkcWhnpOfQu-99mxmOPMe6r_gcPxPUOxtVslEytkjhzBvTOjxzBhn')\n",
    "song = api.search_song('happy')"
   ]
  },
  {
   "cell_type": "markdown",
   "metadata": {},
   "source": [
    "### load the lyrics"
   ]
  },
  {
   "cell_type": "code",
   "execution_count": 4,
   "metadata": {},
   "outputs": [
    {
     "data": {
      "text/plain": [
       "[\"It might seem crazy what I'm 'bout to say\",\n",
       " \"Sunshine she's here you can take a break\",\n",
       " \"I'm a hot air balloon that could go to space\",\n",
       " \"With the air like I don't care baby by the way\",\n",
       " \"Because I'm happy\"]"
      ]
     },
     "execution_count": 4,
     "metadata": {},
     "output_type": "execute_result"
    }
   ],
   "source": [
    "#remove the rows with brackets and the empty rows\n",
    "lyrics = list(filter(lambda x : x != '' and x[0] != '[' , song.lyrics.split('\\n')))\n",
    "lyrics = [re.sub('[(),]','',sentence) for sentence in lyrics]\n",
    "lyrics[:5]"
   ]
  },
  {
   "cell_type": "markdown",
   "metadata": {},
   "source": [
    "# Vader"
   ]
  },
  {
   "cell_type": "markdown",
   "metadata": {},
   "source": [
    "### compute the compound per row"
   ]
  },
  {
   "cell_type": "code",
   "execution_count": 13,
   "metadata": {},
   "outputs": [
    {
     "name": "stdout",
     "output_type": "stream",
     "text": [
      "It might seem crazy what I'm 'bout to say Sunshine she's here you can take a break I'm a hot air balloon that could go to space With the air like I don't care baby by the way {'neg': 0.12, 'neu': 0.743, 'pos': 0.137, 'compound': 0.171}\n",
      "Because I'm happy Clap along if you feel like a room without a roof Because I'm happy Clap along if you feel like happiness is the truth {'neg': 0.0, 'neu': 0.509, 'pos': 0.491, 'compound': 0.9538}\n",
      "Because I'm happy Clap along if you know what happiness is to you Because I'm happy Clap along if you feel like that's what you wanna do {'neg': 0.0, 'neu': 0.63, 'pos': 0.37, 'compound': 0.926}\n",
      "Here come bad news talking this and that Yeah! Well give me all you got don't hold it back Yeah! Well I should probably warn ya I'll be just fine Yeah! No offense to you don’t waste your time here's why {'neg': 0.219, 'neu': 0.533, 'pos': 0.248, 'compound': -0.2905}\n",
      "Because I'm happy Clap along if you feel like a room without a roof Because I'm happy Clap along if you feel like happiness is the truth {'neg': 0.0, 'neu': 0.509, 'pos': 0.491, 'compound': 0.9538}\n",
      "Because I'm happy Clap along if you know what happiness is to you Because I'm happy Clap along if you feel like that's what you wanna do {'neg': 0.0, 'neu': 0.63, 'pos': 0.37, 'compound': 0.926}\n",
      "Bring me down Can't nothing bring me down My level's too high to bring me down Can't nothing bring me down I said {'neg': 0.0, 'neu': 1.0, 'pos': 0.0, 'compound': 0.0}\n",
      "Bring me down Can't nothing bring me down My level's too high to bring me down Can't nothing bring me down I said {'neg': 0.0, 'neu': 1.0, 'pos': 0.0, 'compound': 0.0}\n",
      "Because I'm happy Clap along if you feel like a room without a roof Because I'm happy Clap along if you feel like happiness is the truth {'neg': 0.0, 'neu': 0.509, 'pos': 0.491, 'compound': 0.9538}\n",
      "Because I'm happy Clap along if you know what happiness is to you Because I'm happy Clap along if you feel like that's what you wanna do {'neg': 0.0, 'neu': 0.63, 'pos': 0.37, 'compound': 0.926}\n",
      "Because I'm happy Clap along if you feel like a room without a roof Because I'm happy Clap along if you feel like happiness is the truth {'neg': 0.0, 'neu': 0.509, 'pos': 0.491, 'compound': 0.9538}\n",
      "Because I'm happy Clap along if you know what happiness is to you Because I'm happy Clap along if you feel like that's what you wanna do {'neg': 0.0, 'neu': 0.63, 'pos': 0.37, 'compound': 0.926}\n",
      "Bring me down Can't nothing bring me down My level's too high to bring me down Can't nothing bring me down I said... {'neg': 0.0, 'neu': 1.0, 'pos': 0.0, 'compound': 0.0}\n",
      "Because I'm happy Clap along if you feel like a room without a roof Because I'm happy Clap along if you feel like happiness is the truth {'neg': 0.0, 'neu': 0.509, 'pos': 0.491, 'compound': 0.9538}\n",
      "Because I'm happy Clap along if you know what happiness is to you Because I'm happy Clap along if you feel like that's what you wanna do {'neg': 0.0, 'neu': 0.63, 'pos': 0.37, 'compound': 0.926}\n",
      "Because I'm happy Clap along if you feel like a room without a roof Because I'm happy Clap along if you feel like happiness is the truth {'neg': 0.0, 'neu': 0.509, 'pos': 0.491, 'compound': 0.9538}\n",
      "Because I'm happy Clap along if you know what happiness is to you Because I'm happy Clap along if you feel like that's what you wanna do {'neg': 0.0, 'neu': 0.63, 'pos': 0.37, 'compound': 0.926}\n",
      "----------------------------------------------------------------- {'neg': 0.0, 'neu': 0.0, 'pos': 0.0, 'compound': 0.0}\n",
      "...\n"
     ]
    }
   ],
   "source": [
    "analyzer = SentimentIntensityAnalyzer()\n",
    "\n",
    "#analyze compound per sentence (demo purpose) \n",
    "for sentence in partial_aggregate(lyrics, 4):\n",
    "    vs = analyzer.polarity_scores(sentence)\n",
    "    print(\"{:-<65} {}\".format(sentence, str(vs)))\n",
    "print(\"...\")\n"
   ]
  },
  {
   "cell_type": "markdown",
   "metadata": {},
   "source": [
    "### compute the mean compound for the song"
   ]
  },
  {
   "cell_type": "markdown",
   "metadata": {},
   "source": [
    "#### mean of sentences"
   ]
  },
  {
   "cell_type": "code",
   "execution_count": 14,
   "metadata": {},
   "outputs": [
    {
     "name": "stdout",
     "output_type": "stream",
     "text": [
      "The mean compound is :  0.389263235294\n"
     ]
    }
   ],
   "source": [
    "mean_compound = np.mean(np.array([analyzer.polarity_scores(sentence)['compound'] for sentence in lyrics]))\n",
    "print(\"The mean compound is : \", mean_compound)"
   ]
  },
  {
   "cell_type": "markdown",
   "metadata": {},
   "source": [
    "#### mean of aggregated sentences"
   ]
  },
  {
   "cell_type": "code",
   "execution_count": 15,
   "metadata": {},
   "outputs": [
    {
     "name": "stdout",
     "output_type": "stream",
     "text": [
      "The mean compound (aggregate by 4) is :  0.619961111111\n"
     ]
    }
   ],
   "source": [
    "mean_compound = np.mean(np.array([analyzer.polarity_scores(sentence)['compound'] for sentence in partial_aggregate(lyrics, 4)]))\n",
    "print(\"The mean compound (aggregate by 4) is : \", mean_compound)"
   ]
  },
  {
   "cell_type": "markdown",
   "metadata": {},
   "source": [
    "#### whole text"
   ]
  },
  {
   "cell_type": "code",
   "execution_count": 16,
   "metadata": {},
   "outputs": [
    {
     "name": "stdout",
     "output_type": "stream",
     "text": [
      "The mean compound is :  0.9996\n"
     ]
    }
   ],
   "source": [
    "score = analyzer.polarity_scores(\" \".join(lyrics))['compound']\n",
    "print(\"The mean compound is : \", score)"
   ]
  },
  {
   "cell_type": "markdown",
   "metadata": {},
   "source": [
    "# TextBlob"
   ]
  },
  {
   "cell_type": "markdown",
   "metadata": {},
   "source": [
    "### compute the compound per sentence"
   ]
  },
  {
   "cell_type": "code",
   "execution_count": 18,
   "metadata": {},
   "outputs": [
    {
     "name": "stdout",
     "output_type": "stream",
     "text": [
      "It might seem crazy what I'm 'bout to say------------------------ -0.6\n",
      "Sunshine she's here you can take a break------------------------- 0.0\n",
      "I'm a hot air balloon that could go to space--------------------- 0.25\n",
      "With the air like I don't care baby by the way------------------- 0.0\n",
      "Because I'm happy------------------------------------------------ 0.8\n",
      "...\n"
     ]
    }
   ],
   "source": [
    "for sentence in lyrics[:5]:\n",
    "    sentiment = TextBlob(sentence)\n",
    "    print(\"{:-<65} {}\".format(sentence, str(sentiment.sentiment.polarity)))\n",
    "print(\"...\")"
   ]
  },
  {
   "cell_type": "markdown",
   "metadata": {},
   "source": [
    "### compute the main compound"
   ]
  },
  {
   "cell_type": "markdown",
   "metadata": {},
   "source": [
    "#### mean of sentences"
   ]
  },
  {
   "cell_type": "code",
   "execution_count": 19,
   "metadata": {},
   "outputs": [
    {
     "name": "stdout",
     "output_type": "stream",
     "text": [
      "The mean compound is :  0.372095588235\n"
     ]
    }
   ],
   "source": [
    "mean_compound = np.mean(np.array([TextBlob(sentence).sentiment.polarity for sentence in lyrics]))\n",
    "print(\"The mean compound is : \", mean_compound)"
   ]
  },
  {
   "cell_type": "markdown",
   "metadata": {},
   "source": [
    "#### mean of aggregated sentences"
   ]
  },
  {
   "cell_type": "code",
   "execution_count": 20,
   "metadata": {},
   "outputs": [
    {
     "name": "stdout",
     "output_type": "stream",
     "text": [
      "The mean compound (aggregated by 4) is :  0.478284722222\n"
     ]
    }
   ],
   "source": [
    "mean_compound = np.mean(np.array([TextBlob(sentence).sentiment.polarity for sentence in partial_aggregate(lyrics, 4)]))\n",
    "print(\"The mean compound (aggregated by 4) is : \", mean_compound)"
   ]
  },
  {
   "cell_type": "markdown",
   "metadata": {},
   "source": [
    "#### whole text"
   ]
  },
  {
   "cell_type": "code",
   "execution_count": 21,
   "metadata": {},
   "outputs": [
    {
     "name": "stdout",
     "output_type": "stream",
     "text": [
      "The mean compound is :  0.4440204678362574\n"
     ]
    }
   ],
   "source": [
    "score = TextBlob(\" \".join(lyrics)).sentiment.polarity\n",
    "print(\"The mean compound is : \", score)"
   ]
  },
  {
   "cell_type": "markdown",
   "metadata": {},
   "source": [
    "# NLTK"
   ]
  },
  {
   "cell_type": "code",
   "execution_count": 5,
   "metadata": {},
   "outputs": [],
   "source": [
    "analyzer = nltkvd.SentimentIntensityAnalyzer()"
   ]
  },
  {
   "cell_type": "markdown",
   "metadata": {},
   "source": [
    "### compute the compound per sequence"
   ]
  },
  {
   "cell_type": "code",
   "execution_count": 9,
   "metadata": {},
   "outputs": [
    {
     "name": "stdout",
     "output_type": "stream",
     "text": [
      "It might seem crazy what I'm 'bout to say------------------------ -0.34\n",
      "Sunshine she's here you can take a break------------------------- 0.4939\n",
      "I'm a hot air balloon that could go to space--------------------- 0.0\n",
      "With the air like I don't care baby by the way------------------- -0.033\n",
      "Because I'm happy------------------------------------------------ 0.5719\n",
      "...\n"
     ]
    }
   ],
   "source": [
    "for sentence in lyrics[:5]:\n",
    "    sentiment = analyzer.polarity_scores(sentence)['compound']\n",
    "    print(\"{:-<65} {}\".format(sentence, str(sentiment)))\n",
    "print(\"...\")"
   ]
  },
  {
   "cell_type": "markdown",
   "metadata": {},
   "source": [
    "#### mean of sentences"
   ]
  },
  {
   "cell_type": "code",
   "execution_count": 8,
   "metadata": {},
   "outputs": [
    {
     "name": "stdout",
     "output_type": "stream",
     "text": [
      "The mean compound is :  0.389263235294\n"
     ]
    }
   ],
   "source": [
    "mean_compound = np.mean(np.array([analyzer.polarity_scores(sentence)['compound'] for sentence in lyrics]))\n",
    "print(\"The mean compound is : \", mean_compound)"
   ]
  },
  {
   "cell_type": "markdown",
   "metadata": {},
   "source": [
    "#### mean of aggregated sentences"
   ]
  },
  {
   "cell_type": "code",
   "execution_count": 10,
   "metadata": {},
   "outputs": [
    {
     "name": "stdout",
     "output_type": "stream",
     "text": [
      "The mean compound (aggregate by 4) is :  0.619961111111\n"
     ]
    }
   ],
   "source": [
    "mean_compound = np.mean(np.array([analyzer.polarity_scores(sentence)['compound'] for sentence in partial_aggregate(lyrics, 4)]))\n",
    "print(\"The mean compound (aggregate by 4) is : \", mean_compound)"
   ]
  },
  {
   "cell_type": "markdown",
   "metadata": {},
   "source": [
    "#### whole text"
   ]
  },
  {
   "cell_type": "code",
   "execution_count": 11,
   "metadata": {},
   "outputs": [
    {
     "name": "stdout",
     "output_type": "stream",
     "text": [
      "The mean compound is :  0.9996\n"
     ]
    }
   ],
   "source": [
    "score = analyzer.polarity_scores(\" \".join(lyrics))['compound']\n",
    "print(\"The mean compound is : \", score)"
   ]
  },
  {
   "cell_type": "markdown",
   "metadata": {},
   "source": [
    "# Altogether"
   ]
  },
  {
   "cell_type": "code",
   "execution_count": 36,
   "metadata": {},
   "outputs": [],
   "source": [
    "#the function does the above operations all in one\n",
    "def sentiment_output(song_search, group_size=4) :\n",
    "    song = api.search_song(song_search)\n",
    "    \n",
    "    #give song informations\n",
    "    print(\"\\ntitle : \", song.title)\n",
    "    print(\"artist : \", song.artist, '\\n')\n",
    "    \n",
    "    #remove the rows with brackets and the empty rows\n",
    "    lyrics = list(filter(lambda x : x != '' and x[0] != '[' , song.lyrics.split('\\n')))\n",
    "    lyrics = [re.sub('[(),]','',sentence) for sentence in lyrics]\n",
    "    \n",
    "    \n",
    "    #vader\n",
    "    analyzer = vd()\n",
    "    \n",
    "    # vader aggregated compound\n",
    "    mean_compound = np.mean(np.array([analyzer.polarity_scores(sentence)['compound'] for sentence in lyrics]))\n",
    "    print(\"Vader : The mean compound (aggregated by 1) is : \", mean_compound)\n",
    "    \n",
    "    #vader aggregated by group_size compound\n",
    "    mean_compound = np.mean(np.array([analyzer.polarity_scores(sentence)['compound'] for sentence in partial_aggregate(lyrics, group_size)]))\n",
    "    print(\"Vader : The mean compound (aggregated by\", group_size, \") is : \", mean_compound)\n",
    "    \n",
    "    #vader whole text compound\n",
    "    score = analyzer.polarity_scores(\" \".join(lyrics))['compound']\n",
    "    print(\"Vader : The mean compound (whole text) is : \", score, '\\n')\n",
    "    \n",
    "    #TextBlob aggregated compound\n",
    "    mean_compound = np.mean(np.array([TextBlob(sentence).sentiment.polarity for sentence in lyrics]))\n",
    "    print(\"TextBlob : The mean compound (aggregated) is : \", mean_compound)\n",
    "    \n",
    "    #TextBlob aggregated by group_size compound\n",
    "    mean_compound = np.mean(np.array([TextBlob(sentence).sentiment.polarity for sentence in partial_aggregate(lyrics, group_size)]))\n",
    "    print(\"TextBlob : The mean compound (aggregated by\", group_size, \") is : \", mean_compound)\n",
    "    \n",
    "    #TextBlob whole text compound\n",
    "    score = TextBlob(\" \".join(lyrics)).sentiment.polarity\n",
    "    print(\"TextBlob : The mean compound (whole text) is : \", score, \"\\n\\n\")\n",
    "    \n",
    "    #nltk\n",
    "    analyzer = nltkvd.SentimentIntensityAnalyzer()\n",
    "    \n",
    "    # nltk aggregated compound\n",
    "    mean_compound = np.mean(np.array([analyzer.polarity_scores(sentence)['compound'] for sentence in lyrics]))\n",
    "    print(\"NLTK : The mean compound (aggregated by 1) is : \", mean_compound)\n",
    "    \n",
    "    #nltk aggregated by group_size compound\n",
    "    mean_compound = np.mean(np.array([analyzer.polarity_scores(sentence)['compound'] for sentence in partial_aggregate(lyrics, group_size)]))\n",
    "    print(\"NLTK : The mean compound (aggregated by\", group_size, \") is : \", mean_compound)\n",
    "    \n",
    "    #nltk whole text compound\n",
    "    score = analyzer.polarity_scores(\" \".join(lyrics))['compound']\n",
    "    print(\"NLTK : The mean compound (whole text) is : \", score, '\\n')\n",
    "    \n",
    "    \n",
    "\n",
    "    pos_plots_for_groups(lyrics)\n",
    "    "
   ]
  },
  {
   "cell_type": "code",
   "execution_count": 45,
   "metadata": {},
   "outputs": [
    {
     "name": "stdout",
     "output_type": "stream",
     "text": [
      "Searching for \"happy\"...\n",
      "Done.\n",
      "\n",
      "title :  Happy\n",
      "artist :  Pharrell Williams \n",
      "\n",
      "Vader : The mean compound (aggregated by 1) is :  0.389263235294\n",
      "Vader : The mean compound (aggregated by 4 ) is :  0.619961111111\n",
      "Vader : The mean compound (whole text) is :  0.9996 \n",
      "\n",
      "TextBlob : The mean compound (aggregated) is :  0.372095588235\n",
      "TextBlob : The mean compound (aggregated by 4 ) is :  0.478284722222\n",
      "TextBlob : The mean compound (whole text) is :  0.4440204678362574\n"
     ]
    }
   ],
   "source": [
    "sentiment_output(\"happy\")"
   ]
  },
  {
   "cell_type": "markdown",
   "metadata": {},
   "source": [
    "## study of the impact of the group size on positivity"
   ]
  },
  {
   "cell_type": "code",
   "execution_count": 28,
   "metadata": {},
   "outputs": [],
   "source": [
    "def pos_plots_for_groups(lyrics) :\n",
    "    \n",
    "    scores_vader = []\n",
    "    scores_textblob = []\n",
    "    scores_nltk = []\n",
    "    \n",
    "    x = list(range(1, len(lyrics) + 1))\n",
    "    \n",
    "    for i in x :\n",
    "        \n",
    "        #compute positivity for vader\n",
    "        scores_vader.append(np.mean(np.array([vd().polarity_scores(sentence)['compound'] for sentence in partial_aggregate(lyrics, i)])))\n",
    "    \n",
    "        #compute positivity for textblob\n",
    "        scores_textblob.append(np.mean(np.array([TextBlob(sentence).sentiment.polarity for sentence in partial_aggregate(lyrics, i)])))\n",
    "\n",
    "        #compute positivity for nltk\n",
    "        scores_nltk.append(np.mean(np.array([nltkvd.SentimentIntensityAnalyzer().polarity_scores(sentence)['compound'] for sentence in partial_aggregate(lyrics, i)])))\n",
    "\n",
    "        \n",
    "        \n",
    "    plt.figure(figsize=(15, 8))\n",
    "    plt.plot(x, scores_vader)\n",
    "    plt.plot(x, scores_textblob)\n",
    "    plt.plot(x, scores_nltk)\n",
    "    plt.legend(['vader', 'text blob', 'nltk'])\n",
    "    plt.show()\n",
    "    \n",
    "    print(lyrics)"
   ]
  },
  {
   "cell_type": "code",
   "execution_count": 37,
   "metadata": {},
   "outputs": [
    {
     "name": "stdout",
     "output_type": "stream",
     "text": [
      "Searching for \"tears in heaven\"...\n",
      "Done.\n",
      "\n",
      "title :  Tears in Heaven\n",
      "artist :  Eric Clapton \n",
      "\n",
      "Vader : The mean compound (aggregated by 1) is :  0.355186363636\n",
      "Vader : The mean compound (aggregated by 4 ) is :  0.82915\n",
      "Vader : The mean compound (whole text) is :  0.9944 \n",
      "\n",
      "TextBlob : The mean compound (aggregated) is :  0.0436868686869\n",
      "TextBlob : The mean compound (aggregated by 4 ) is :  0.149691358025\n",
      "TextBlob : The mean compound (whole text) is :  0.13730158730158729 \n",
      "\n",
      "\n",
      "NLTK : The mean compound (aggregated by 1) is :  0.355186363636\n",
      "NLTK : The mean compound (aggregated by 4 ) is :  0.82915\n",
      "NLTK : The mean compound (whole text) is :  0.9944 \n",
      "\n"
     ]
    },
    {
     "data": {
      "image/png": "[encoded data removed]",
      "text/plain": [
       "<Figure size 1080x576 with 1 Axes>"
      ]
     },
     "metadata": {
      "needs_background": "light"
     },
     "output_type": "display_data"
    },
    {
     "name": "stdout",
     "output_type": "stream",
     "text": [
      "['Would you know my name', 'If I saw you in heaven?', 'Would it be the same', 'If I saw you in heaven?', 'I must be strong and carry on', \"‘Cause I know I don't belong here in heaven\", 'Would you hold my hand', 'If I saw you in heaven?', 'Would you help me stand', 'If I saw you in heaven?', \"I'll find my way through night and day\", \"‘Cause I know I just can't stay here in heaven\", 'Time can bring you down time can bend your knees', 'Time can break your heart have you begging please begging please', \"Beyond the door there's peace I'm sure\", \"And I know there'll be no more tears in heaven\", 'Would you know my name', 'If I saw you in heaven?', 'Would you feel the same', 'If I saw you in heaven?', 'I must be strong and carry on', \"Because I know I don't belong here in heaven\"]\n"
     ]
    }
   ],
   "source": [
    "sentiment_output(\"tears in heaven\")"
   ]
  }
 ],
 "metadata": {
  "kernelspec": {
   "display_name": "Python 3",
   "language": "python",
   "name": "python3"
  },
  "language_info": {
   "codemirror_mode": {
    "name": "ipython",
    "version": 3
   },
   "file_extension": ".py",
   "mimetype": "text/x-python",
   "name": "python",
   "nbconvert_exporter": "python",
   "pygments_lexer": "ipython3",
   "version": "3.6.5"
  }
 },
 "nbformat": 4,
 "nbformat_minor": 2
}
