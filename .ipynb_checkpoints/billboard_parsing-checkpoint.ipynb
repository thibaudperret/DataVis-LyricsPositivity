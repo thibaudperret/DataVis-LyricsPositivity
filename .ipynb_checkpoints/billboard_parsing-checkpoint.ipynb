{
 "cells": [
  {
   "cell_type": "code",
   "execution_count": null,
   "metadata": {},
   "outputs": [],
   "source": [
    "from bs4 import BeautifulSoup as bs\n",
    "import urllib.request\n",
    "import os\n",
    "import requests\n",
    "import shutil\n",
    "from tqdm import tqdm\n",
    "import re\n",
    "import pickle\n",
    "import json"
   ]
  },
  {
   "cell_type": "markdown",
   "metadata": {},
   "source": [
    "### scrap album info"
   ]
  },
  {
   "cell_type": "code",
   "execution_count": null,
   "metadata": {},
   "outputs": [],
   "source": [
    "all_albums = []\n",
    "all_urls = []\n",
    "\n",
    "for year in range(2002,2018) :\n",
    "    \n",
    "    url = \"https://www.billboard.com/charts/year-end/\"+str(year)+\"/top-billboard-200-albums\"\n",
    "    req = urllib.request.Request(url, headers={'User-Agent': 'Mozilla/5.0'})\n",
    "    html = urllib.request.urlopen(req)\n",
    "    res = bs(html.read(),\"html5lib\")\n",
    "    album_titles = [re.sub(\"\\n\", '', c.text) for c in res.findAll(attrs={'class': \"ye-chart-item__title\"})]\n",
    "    album_artists = [re.sub(\"\\n\", '', c.text) for c in res.findAll(attrs={'class': \"ye-chart-item__artist\"})]\n",
    "    urls = [c.find(\"img\")[\"src\"] for c in res.findAll(attrs={'class': \"ye-chart-item__image\"})]\n",
    "    all_urls.extend(urls)\n",
    "    \n",
    "    print(len(album_titles), len(album_artists), len(album_image_src))\n",
    "    \n",
    "    \n",
    "    all_albums.extend([{'album': x[0], \n",
    "                        'artist' : x[1], \n",
    "                        'year' : year, \n",
    "                        'rank' : r + 1, \n",
    "                        'img_src' : \"albums_covers/\" + re.sub(\"\\W+\", \"\", x[2].split('/')[-1][:-4]) + \".jpg\"} for r, x in enumerate(zip(album_titles, album_artists, album_image_src))])\n",
    "    \n",
    "all_albums[:10]"
   ]
  },
  {
   "cell_type": "markdown",
   "metadata": {},
   "source": [
    "### save info"
   ]
  },
  {
   "cell_type": "code",
   "execution_count": null,
   "metadata": {},
   "outputs": [],
   "source": [
    "with open('all_albums.json', 'w') as fp:\n",
    "    json.dump(all_albums, fp)"
   ]
  },
  {
   "cell_type": "markdown",
   "metadata": {},
   "source": [
    "### save album images"
   ]
  },
  {
   "cell_type": "code",
   "execution_count": null,
   "metadata": {},
   "outputs": [],
   "source": [
    "urls = [c[\"img_src\"] for c in all_albums]\n",
    "urls[:3]"
   ]
  },
  {
   "cell_type": "code",
   "execution_count": null,
   "metadata": {},
   "outputs": [],
   "source": [
    "if not os.path.exists(\"albums_covers\"):\n",
    "    os.makedirs(\"albums_covers\")\n",
    "    \n",
    "for url in tqdm(urls) :\n",
    "    r = requests.get(url, stream=True, headers={'User-agent': 'Mozilla/5.0'})\n",
    "    \n",
    "    if r.status_code == 200:\n",
    "        \n",
    "        name = \"albums_covers/\" + re.sub(\"\\W+\", \"\", url.split('/')[-1][:-4]) + \".jpg\"\n",
    "                \n",
    "        with open(name, 'wb') as f:\n",
    "            r.raw.decode_content = True\n",
    "            shutil.copyfileobj(r.raw, f)    "
   ]
  }
 ],
 "metadata": {
  "kernelspec": {
   "display_name": "Python 3",
   "language": "python",
   "name": "python3"
  },
  "language_info": {
   "codemirror_mode": {
    "name": "ipython",
    "version": 3
   },
   "file_extension": ".py",
   "mimetype": "text/x-python",
   "name": "python",
   "nbconvert_exporter": "python",
   "pygments_lexer": "ipython3",
   "version": "3.6.1"
  }
 },
 "nbformat": 4,
 "nbformat_minor": 2
}
