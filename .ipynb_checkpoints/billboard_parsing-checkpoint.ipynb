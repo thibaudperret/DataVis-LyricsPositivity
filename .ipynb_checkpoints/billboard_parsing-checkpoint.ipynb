{
 "cells": [
  {
   "cell_type": "code",
   "execution_count": null,
   "metadata": {},
   "outputs": [],
   "source": [
    "from bs4 import BeautifulSoup as bs\n",
    "import urllib.request\n",
    "import re\n",
    "import pickle\n",
    "import json"
   ]
  },
  {
   "cell_type": "code",
   "execution_count": 7,
   "metadata": {},
   "outputs": [
    {
     "name": "stdout",
     "output_type": "stream",
     "text": [
      "192 192 192\n",
      "197 197 197\n",
      "198 198 198\n",
      "197 197 197\n",
      "199 199 199\n",
      "199 199 199\n",
      "199 199 199\n",
      "198 198 198\n",
      "198 198 198\n",
      "194 194 194\n",
      "198 198 198\n",
      "198 198 198\n",
      "200 200 200\n",
      "199 199 199\n",
      "200 200 200\n",
      "200 200 200\n"
     ]
    },
    {
     "data": {
      "text/plain": [
       "[{'album': 'The Eminem Show',\n",
       "  'artist': 'Eminem',\n",
       "  'year': 2002,\n",
       "  'rank': 1,\n",
       "  'img_src': 'https://charts-static.billboard.com/img/2002/06/eminem-1xq-the-eminem-show-ilv-53x53.jpg'},\n",
       " {'album': 'Weathered',\n",
       "  'artist': 'Creed',\n",
       "  'year': 2002,\n",
       "  'rank': 2,\n",
       "  'img_src': 'https://charts-static.billboard.com/img/1840/12/creed-442-53x53.jpg'},\n",
       " {'album': 'Nellyville',\n",
       "  'artist': 'Nelly',\n",
       "  'year': 2002,\n",
       "  'rank': 3,\n",
       "  'img_src': 'https://charts-static.billboard.com/img/2002/07/nelly-fmf-nellyville-6uw-53x53.jpg'},\n",
       " {'album': 'M!ssundaztood',\n",
       "  'artist': 'P!nk',\n",
       "  'year': 2002,\n",
       "  'rank': 4,\n",
       "  'img_src': 'https://charts-static.billboard.com/img/2001/12/pnk-e1s-mssundaztood-hgv-53x53.jpg'},\n",
       " {'album': '[Hybrid Theory]',\n",
       "  'artist': 'Linkin Park',\n",
       "  'year': 2002,\n",
       "  'rank': 5,\n",
       "  'img_src': 'https://charts-static.billboard.com/img/2000/11/linkin-park-brd--hybrid-theory--nd4-53x53.jpg'},\n",
       " {'album': 'O Brother, Where Art Thou?',\n",
       "  'artist': 'Soundtrack',\n",
       "  'year': 2002,\n",
       "  'rank': 6,\n",
       "  'img_src': 'https://charts-static.billboard.com/img/2000/12/soundtrack-000-o-brother-where-art-thou?-hrb-53x53.jpg'},\n",
       " {'album': 'Silver Side Up',\n",
       "  'artist': 'Nickelback',\n",
       "  'year': 2002,\n",
       "  'rank': 7,\n",
       "  'img_src': 'https://charts-static.billboard.com/img/2001/09/nickelback-5lu-silver-side-up-uvn-53x53.jpg'},\n",
       " {'album': 'Britney',\n",
       "  'artist': 'Britney Spears',\n",
       "  'year': 2002,\n",
       "  'rank': 8,\n",
       "  'img_src': 'https://charts-static.billboard.com/img/2001/11/britney-spears-s89-britney-uah-53x53.jpg'},\n",
       " {'album': 'Now 8',\n",
       "  'artist': 'Various Artists',\n",
       "  'year': 2002,\n",
       "  'rank': 9,\n",
       "  'img_src': 'https://charts-static.billboard.com/img/2001/12/various-artists-000-now-8-01j-53x53.jpg'},\n",
       " {'album': 'Word Of Mouf',\n",
       "  'artist': 'Ludacris',\n",
       "  'year': 2002,\n",
       "  'rank': 10,\n",
       "  'img_src': 'https://charts-static.billboard.com/img/2001/12/ludacris-5cn-word-of-mouf-7v2-53x53.jpg'}]"
      ]
     },
     "execution_count": 7,
     "metadata": {},
     "output_type": "execute_result"
    }
   ],
   "source": [
    "all_albums = []\n",
    "\n",
    "for year in range(2002,2018) :\n",
    "    \n",
    "    url = \"https://www.billboard.com/charts/year-end/\"+str(year)+\"/top-billboard-200-albums\"\n",
    "    req = urllib.request.Request(url, headers={'User-Agent': 'Mozilla/5.0'})\n",
    "    html = urllib.request.urlopen(req)\n",
    "    res = bs(html.read(),\"html5lib\")\n",
    "    album_titles = [re.sub(\"\\n\", '', c.text) for c in res.findAll(attrs={'class': \"ye-chart-item__title\"})]\n",
    "    album_artists = [re.sub(\"\\n\", '', c.text) for c in res.findAll(attrs={'class': \"ye-chart-item__artist\"})]\n",
    "    album_image_src = [c.find(\"img\")[\"src\"] for c in res.findAll(attrs={'class': \"ye-chart-item__image\"})]\n",
    "    \n",
    "    print(len(album_titles), len(album_artists), len(album_image_src))\n",
    "    \n",
    "    \n",
    "    all_albums.extend([{'album': x[0], 'artist' : x[1], 'year' : year, 'rank' : r + 1, 'img_src' : x[2]} for r, x in enumerate(zip(album_titles, album_artists, album_image_src))])\n",
    "    \n",
    "all_albums[:10]"
   ]
  },
  {
   "cell_type": "markdown",
   "metadata": {},
   "source": [
    "# save songs"
   ]
  },
  {
   "cell_type": "code",
   "execution_count": null,
   "metadata": {},
   "outputs": [],
   "source": [
    "with open('all_albums.json', 'w') as fp:\n",
    "    json.dump(all_albums, fp)"
   ]
  }
 ],
 "metadata": {
  "kernelspec": {
   "display_name": "Python 3",
   "language": "python",
   "name": "python3"
  },
  "language_info": {
   "codemirror_mode": {
    "name": "ipython",
    "version": 3
   },
   "file_extension": ".py",
   "mimetype": "text/x-python",
   "name": "python",
   "nbconvert_exporter": "python",
   "pygments_lexer": "ipython3",
   "version": "3.6.1"
  }
 },
 "nbformat": 4,
 "nbformat_minor": 2
}
