{
 "cells": [
  {
   "cell_type": "code",
   "execution_count": null,
   "metadata": {},
   "outputs": [],
   "source": [
    "from bs4 import BeautifulSoup as bs\n",
    "import urllib.request\n",
    "import re\n",
    "import pickle\n",
    "import json"
   ]
  },
  {
   "cell_type": "code",
   "execution_count": null,
   "metadata": {},
   "outputs": [],
   "source": [
    "all_albums = []\n",
    "\n",
    "for year in range(2002,2018) :\n",
    "    \n",
    "    url = \"https://www.billboard.com/charts/year-end/\"+str(year)+\"/top-billboard-200-albums\"\n",
    "    req = urllib.request.Request(url, headers={'User-Agent': 'Mozilla/5.0'})\n",
    "    html = urllib.request.urlopen(req)\n",
    "    res = bs(html.read(),\"html5lib\")\n",
    "    album_titles = [re.sub(\"\\n\", '', c.text) for c in res.findAll(attrs={'class': \"ye-chart-item__title\"})]\n",
    "    album_artists = [re.sub(\"\\n\", '', c.text) for c in res.findAll(attrs={'class': \"ye-chart-item__artist\"})]\n",
    "    album_image_src = [c.find(\"img\")[\"src\"] for c in res.findAll(attrs={'class': \"ye-chart-item__image\"})]\n",
    "    \n",
    "    print(len(album_titles), len(album_artists), len(album_image_src))\n",
    "    \n",
    "    \n",
    "    all_albums.extend([{'album': x[0], 'artist' : x[1], 'year' : year, 'rank' : r + 1, 'img_src' : x[2]} for r, x in enumerate(zip(album_titles, album_artists, album_image_src))])\n",
    "    \n",
    "all_albums[:10]"
   ]
  },
  {
   "cell_type": "markdown",
   "metadata": {},
   "source": [
    "# save songs"
   ]
  },
  {
   "cell_type": "code",
   "execution_count": null,
   "metadata": {},
   "outputs": [],
   "source": [
    "with open('all_albums.json', 'w') as fp:\n",
    "    json.dump(all_albums, fp)"
   ]
  }
 ],
 "metadata": {
  "kernelspec": {
   "display_name": "Python 3",
   "language": "python",
   "name": "python3"
  },
  "language_info": {
   "codemirror_mode": {
    "name": "ipython",
    "version": 3
   },
   "file_extension": ".py",
   "mimetype": "text/x-python",
   "name": "python",
   "nbconvert_exporter": "python",
   "pygments_lexer": "ipython3",
   "version": "3.6.1"
  }
 },
 "nbformat": 4,
 "nbformat_minor": 2
}
