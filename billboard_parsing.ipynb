{
 "cells": [
  {
   "cell_type": "code",
   "execution_count": 1,
   "metadata": {},
   "outputs": [],
   "source": [
    "from bs4 import BeautifulSoup as bs\n",
    "import urllib.request\n",
    "import re\n",
    "import pickle\n",
    "import json"
   ]
  },
  {
   "cell_type": "code",
   "execution_count": 2,
   "metadata": {},
   "outputs": [
    {
     "data": {
      "text/plain": [
       "[{'album': 'The Eminem Show', 'artist': 'Eminem', 'year': 2002, 'rank': 1},\n",
       " {'album': 'Weathered', 'artist': 'Creed', 'year': 2002, 'rank': 2},\n",
       " {'album': 'Nellyville', 'artist': 'Nelly', 'year': 2002, 'rank': 3},\n",
       " {'album': 'M!ssundaztood', 'artist': 'P!nk', 'year': 2002, 'rank': 4},\n",
       " {'album': '[Hybrid Theory]',\n",
       "  'artist': 'Linkin Park',\n",
       "  'year': 2002,\n",
       "  'rank': 5},\n",
       " {'album': 'O Brother, Where Art Thou?',\n",
       "  'artist': 'Soundtrack',\n",
       "  'year': 2002,\n",
       "  'rank': 6},\n",
       " {'album': 'Silver Side Up', 'artist': 'Nickelback', 'year': 2002, 'rank': 7},\n",
       " {'album': 'Britney', 'artist': 'Britney Spears', 'year': 2002, 'rank': 8},\n",
       " {'album': 'Now 8', 'artist': 'Various Artists', 'year': 2002, 'rank': 9},\n",
       " {'album': 'Word Of Mouf', 'artist': 'Ludacris', 'year': 2002, 'rank': 10}]"
      ]
     },
     "execution_count": 2,
     "metadata": {},
     "output_type": "execute_result"
    }
   ],
   "source": [
    "all_albums = []\n",
    "\n",
    "for year in range(2002,2018) :\n",
    "    \n",
    "    url = \"https://www.billboard.com/charts/year-end/\"+str(year)+\"/top-billboard-200-albums\"\n",
    "    req = urllib.request.Request(url, headers={'User-Agent': 'Mozilla/5.0'})\n",
    "    html = urllib.request.urlopen(req)\n",
    "    res = bs(html.read(),\"html5lib\")\n",
    "    album_titles = [re.sub(\"\\n\", '', c.text) for c in res.findAll(attrs={'class': \"ye-chart-item__title\"})]\n",
    "    album_artists = [re.sub(\"\\n\", '', c.text) for c in res.findAll(attrs={'class': \"ye-chart-item__artist\"})]\n",
    "\n",
    "    all_albums.extend([{'album': x[0], 'artist' : x[1], 'year' : year, 'rank' : r + 1} for r, x in enumerate(zip(album_titles, album_artists))])\n",
    "    \n",
    "all_albums[:10]"
   ]
  },
  {
   "cell_type": "markdown",
   "metadata": {},
   "source": [
    "# save songs"
   ]
  },
  {
   "cell_type": "code",
   "execution_count": 3,
   "metadata": {},
   "outputs": [],
   "source": [
    "with open('all_albums.json', 'w') as fp:\n",
    "    json.dump(all_albums, fp)"
   ]
  }
 ],
 "metadata": {
  "kernelspec": {
   "display_name": "Python 3",
   "language": "python",
   "name": "python3"
  },
  "language_info": {
   "codemirror_mode": {
    "name": "ipython",
    "version": 3
   },
   "file_extension": ".py",
   "mimetype": "text/x-python",
   "name": "python",
   "nbconvert_exporter": "python",
   "pygments_lexer": "ipython3",
   "version": "3.6.1"
  }
 },
 "nbformat": 4,
 "nbformat_minor": 2
}
