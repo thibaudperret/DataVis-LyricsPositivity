{
 "cells": [
  {
   "cell_type": "markdown",
   "metadata": {},
   "source": [
    "### usual imports"
   ]
  },
  {
   "cell_type": "code",
   "execution_count": 19,
   "metadata": {},
   "outputs": [],
   "source": [
    "import lyricsgenius as lg\n",
    "import vaderSentiment as vd\n",
    "from vaderSentiment.vaderSentiment import SentimentIntensityAnalyzer\n",
    "import numpy as np"
   ]
  },
  {
   "cell_type": "markdown",
   "metadata": {},
   "source": [
    "### load the song"
   ]
  },
  {
   "cell_type": "code",
   "execution_count": 4,
   "metadata": {},
   "outputs": [
    {
     "name": "stdout",
     "output_type": "stream",
     "text": [
      "Searching for \"iz\"...\n",
      "Done.\n"
     ]
    }
   ],
   "source": [
    "api = lg.Genius('EkwclsJky_nfkcWhnpOfQu-99mxmOPMe6r_gcPxPUOxtVslEytkjhzBvTOjxzBhn')\n",
    "song = api.search_song('iz')"
   ]
  },
  {
   "cell_type": "markdown",
   "metadata": {},
   "source": [
    "### load the lyrics"
   ]
  },
  {
   "cell_type": "code",
   "execution_count": 16,
   "metadata": {},
   "outputs": [
    {
     "data": {
      "text/plain": [
       "[\"Let's describe a certain female\",\n",
       " 'A female with a disease of character and attitude',\n",
       " 'If you will a snob',\n",
       " 'However in the view of NWA...',\n",
       " 'A bitch is a bitch']"
      ]
     },
     "execution_count": 16,
     "metadata": {},
     "output_type": "execute_result"
    }
   ],
   "source": [
    "#remove the rows with brackets and the empty rows\n",
    "lyrics = list(filter(lambda x : x != '' and x[0] != '[' , song.lyrics.split('\\n')))\n",
    "lyrics[:5]"
   ]
  },
  {
   "cell_type": "markdown",
   "metadata": {},
   "source": [
    "### compute the compound per row"
   ]
  },
  {
   "cell_type": "code",
   "execution_count": 23,
   "metadata": {},
   "outputs": [
    {
     "name": "stdout",
     "output_type": "stream",
     "text": [
      "Let's describe a certain female---------------------------------- 0.2732\n",
      "A female with a disease of character and attitude---------------- 0.0\n",
      "If you will a snob----------------------------------------------- -0.4588\n",
      "However in the view of NWA...------------------------------------ 0.0\n",
      "A bitch is a bitch----------------------------------------------- -0.8225\n",
      "...\n"
     ]
    }
   ],
   "source": [
    "analyzer = SentimentIntensityAnalyzer()\n",
    "\n",
    "#analyze compound per sentence (demo purpose) \n",
    "for sentence in lyrics[:5]:\n",
    "    vs = analyzer.polarity_scores(sentence)\n",
    "    print(\"{:-<65} {}\".format(sentence, str(vs['compound'])))\n",
    "print(\"...\")"
   ]
  },
  {
   "cell_type": "markdown",
   "metadata": {},
   "source": [
    "### compute the mean compound for the song"
   ]
  },
  {
   "cell_type": "code",
   "execution_count": 21,
   "metadata": {},
   "outputs": [
    {
     "name": "stdout",
     "output_type": "stream",
     "text": [
      "The mean compound is :  -0.243284507042\n"
     ]
    }
   ],
   "source": [
    "mean_compound = np.mean(np.array([analyzer.polarity_scores(sentence)['compound'] for sentence in lyrics]))\n",
    "print(\"The mean compound is : \", mean_compound)"
   ]
  }
 ],
 "metadata": {
  "kernelspec": {
   "display_name": "Python 3",
   "language": "python",
   "name": "python3"
  },
  "language_info": {
   "codemirror_mode": {
    "name": "ipython",
    "version": 3
   },
   "file_extension": ".py",
   "mimetype": "text/x-python",
   "name": "python",
   "nbconvert_exporter": "python",
   "pygments_lexer": "ipython3",
   "version": "3.6.1"
  }
 },
 "nbformat": 4,
 "nbformat_minor": 2
}
